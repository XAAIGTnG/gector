{
 "cells": [
  {
   "cell_type": "code",
   "execution_count": 1,
   "metadata": {},
   "outputs": [
    {
     "name": "stderr",
     "output_type": "stream",
     "text": [
      "/home/lihao/hdd/anaconda3/envs/gector/lib/python3.7/site-packages/tqdm/auto.py:22: TqdmWarning: IProgress not found. Please update jupyter and ipywidgets. See https://ipywidgets.readthedocs.io/en/stable/user_install.html\n",
      "  from .autonotebook import tqdm as notebook_tqdm\n",
      "/home/lihao/hdd/anaconda3/envs/gector/lib/python3.7/site-packages/sklearn/utils/validation.py:37: DeprecationWarning: distutils Version classes are deprecated. Use packaging.version instead.\n",
      "  LARGE_SPARSE_SUPPORTED = LooseVersion(scipy_version) >= '0.14.0'\n",
      "/home/lihao/hdd/anaconda3/envs/gector/lib/python3.7/site-packages/sklearn/feature_extraction/image.py:167: DeprecationWarning: `np.int` is a deprecated alias for the builtin `int`. To silence this warning, use `int` by itself. Doing this will not modify any behavior and is safe. When replacing `np.int`, you may wish to use e.g. `np.int64` or `np.int32` to specify the precision. If you wish to review your current use, check the release note link for additional information.\n",
      "Deprecated in NumPy 1.20; for more details and guidance: https://numpy.org/devdocs/release/1.20.0-notes.html#deprecations\n",
      "  dtype=np.int):\n",
      "/home/lihao/hdd/anaconda3/envs/gector/lib/python3.7/site-packages/sklearn/linear_model/least_angle.py:35: DeprecationWarning: `np.float` is a deprecated alias for the builtin `float`. To silence this warning, use `float` by itself. Doing this will not modify any behavior and is safe. If you specifically wanted the numpy scalar type, use `np.float64` here.\n",
      "Deprecated in NumPy 1.20; for more details and guidance: https://numpy.org/devdocs/release/1.20.0-notes.html#deprecations\n",
      "  eps=np.finfo(np.float).eps,\n",
      "/home/lihao/hdd/anaconda3/envs/gector/lib/python3.7/site-packages/sklearn/linear_model/least_angle.py:597: DeprecationWarning: `np.float` is a deprecated alias for the builtin `float`. To silence this warning, use `float` by itself. Doing this will not modify any behavior and is safe. If you specifically wanted the numpy scalar type, use `np.float64` here.\n",
      "Deprecated in NumPy 1.20; for more details and guidance: https://numpy.org/devdocs/release/1.20.0-notes.html#deprecations\n",
      "  eps=np.finfo(np.float).eps, copy_X=True, fit_path=True,\n",
      "/home/lihao/hdd/anaconda3/envs/gector/lib/python3.7/site-packages/sklearn/linear_model/least_angle.py:836: DeprecationWarning: `np.float` is a deprecated alias for the builtin `float`. To silence this warning, use `float` by itself. Doing this will not modify any behavior and is safe. If you specifically wanted the numpy scalar type, use `np.float64` here.\n",
      "Deprecated in NumPy 1.20; for more details and guidance: https://numpy.org/devdocs/release/1.20.0-notes.html#deprecations\n",
      "  eps=np.finfo(np.float).eps, copy_X=True, fit_path=True,\n",
      "/home/lihao/hdd/anaconda3/envs/gector/lib/python3.7/site-packages/sklearn/linear_model/least_angle.py:862: DeprecationWarning: `np.float` is a deprecated alias for the builtin `float`. To silence this warning, use `float` by itself. Doing this will not modify any behavior and is safe. If you specifically wanted the numpy scalar type, use `np.float64` here.\n",
      "Deprecated in NumPy 1.20; for more details and guidance: https://numpy.org/devdocs/release/1.20.0-notes.html#deprecations\n",
      "  eps=np.finfo(np.float).eps, positive=False):\n",
      "/home/lihao/hdd/anaconda3/envs/gector/lib/python3.7/site-packages/sklearn/linear_model/least_angle.py:1095: DeprecationWarning: `np.float` is a deprecated alias for the builtin `float`. To silence this warning, use `float` by itself. Doing this will not modify any behavior and is safe. If you specifically wanted the numpy scalar type, use `np.float64` here.\n",
      "Deprecated in NumPy 1.20; for more details and guidance: https://numpy.org/devdocs/release/1.20.0-notes.html#deprecations\n",
      "  max_n_alphas=1000, n_jobs=None, eps=np.finfo(np.float).eps,\n",
      "/home/lihao/hdd/anaconda3/envs/gector/lib/python3.7/site-packages/sklearn/linear_model/least_angle.py:1340: DeprecationWarning: `np.float` is a deprecated alias for the builtin `float`. To silence this warning, use `float` by itself. Doing this will not modify any behavior and is safe. If you specifically wanted the numpy scalar type, use `np.float64` here.\n",
      "Deprecated in NumPy 1.20; for more details and guidance: https://numpy.org/devdocs/release/1.20.0-notes.html#deprecations\n",
      "  max_n_alphas=1000, n_jobs=None, eps=np.finfo(np.float).eps,\n",
      "/home/lihao/hdd/anaconda3/envs/gector/lib/python3.7/site-packages/sklearn/linear_model/least_angle.py:1476: DeprecationWarning: `np.float` is a deprecated alias for the builtin `float`. To silence this warning, use `float` by itself. Doing this will not modify any behavior and is safe. If you specifically wanted the numpy scalar type, use `np.float64` here.\n",
      "Deprecated in NumPy 1.20; for more details and guidance: https://numpy.org/devdocs/release/1.20.0-notes.html#deprecations\n",
      "  eps=np.finfo(np.float).eps, copy_X=True, positive=False):\n",
      "/home/lihao/hdd/anaconda3/envs/gector/lib/python3.7/site-packages/sklearn/linear_model/randomized_l1.py:152: DeprecationWarning: `np.float` is a deprecated alias for the builtin `float`. To silence this warning, use `float` by itself. Doing this will not modify any behavior and is safe. If you specifically wanted the numpy scalar type, use `np.float64` here.\n",
      "Deprecated in NumPy 1.20; for more details and guidance: https://numpy.org/devdocs/release/1.20.0-notes.html#deprecations\n",
      "  precompute=False, eps=np.finfo(np.float).eps,\n",
      "/home/lihao/hdd/anaconda3/envs/gector/lib/python3.7/site-packages/sklearn/linear_model/randomized_l1.py:320: DeprecationWarning: `np.float` is a deprecated alias for the builtin `float`. To silence this warning, use `float` by itself. Doing this will not modify any behavior and is safe. If you specifically wanted the numpy scalar type, use `np.float64` here.\n",
      "Deprecated in NumPy 1.20; for more details and guidance: https://numpy.org/devdocs/release/1.20.0-notes.html#deprecations\n",
      "  eps=np.finfo(np.float).eps, random_state=None,\n",
      "/home/lihao/hdd/anaconda3/envs/gector/lib/python3.7/site-packages/sklearn/linear_model/randomized_l1.py:580: DeprecationWarning: `np.float` is a deprecated alias for the builtin `float`. To silence this warning, use `float` by itself. Doing this will not modify any behavior and is safe. If you specifically wanted the numpy scalar type, use `np.float64` here.\n",
      "Deprecated in NumPy 1.20; for more details and guidance: https://numpy.org/devdocs/release/1.20.0-notes.html#deprecations\n",
      "  eps=4 * np.finfo(np.float).eps, n_jobs=None,\n"
     ]
    }
   ],
   "source": [
    "import torch\n",
    "from gector.gec_model import GecBERTModel\n",
    "from gector.seq2labels_model import Seq2Labels\n",
    "from allennlp.nn import util"
   ]
  },
  {
   "cell_type": "code",
   "execution_count": 22,
   "metadata": {},
   "outputs": [],
   "source": [
    "roberta_gec = GecBERTModel(vocab_path='data/output_vocabulary/', model_paths=['models/roberta_1_gectorv2.th'], is_ensemble=True)\n",
    "# xlnet_gec = GecBERTModel(vocab_path='data/output_vocabulary/', model_paths=['models/xlnet_0_gectorv2.th'], is_ensemble=True)"
   ]
  },
  {
   "cell_type": "code",
   "execution_count": 23,
   "metadata": {},
   "outputs": [
    {
     "name": "stdout",
     "output_type": "stream",
     "text": [
      "bathc: {'tokens': {'bert': tensor([[50265,    38,  1072,   310,   569,   426,    19,    47],\n",
      "        [50265,   370,   216,    38,  6138,    47,     0,     0]],\n",
      "       device='cuda:0'), 'bert-offsets': tensor([[0, 1, 2, 3, 4, 5, 6, 7],\n",
      "        [0, 1, 2, 3, 4, 5, 0, 0]], device='cuda:0'), 'mask': tensor([[1, 1, 1, 1, 1, 1, 1, 1],\n",
      "        [1, 1, 1, 1, 1, 1, 0, 0]], device='cuda:0')}}\n",
      "tensor([[0.9996, 0.9988, 0.9579, 0.9991, 0.9997, 0.9994, 0.9998, 0.4908],\n",
      "        [0.9984, 0.9980, 0.9877, 0.9990, 0.9167, 0.5697, 0.9984, 0.9984]],\n",
      "       device='cuda:0') tensor([[ 0,  0, 19,  0,  0,  0,  0,  0],\n",
      "        [ 0,  0,  0,  0, 19,  0,  0,  0]], device='cuda:0') tensor([0.9844, 0.9355], device='cuda:0')\n"
     ]
    },
    {
     "data": {
      "text/plain": [
       "[['I', 'want', 'play', 'video', 'games', 'with', 'you'],\n",
       " ['You', 'know', 'I', 'love', 'you']]"
      ]
     },
     "execution_count": 23,
     "metadata": {},
     "output_type": "execute_result"
    }
   ],
   "source": [
    "input = ['I wants play video games with you'.split(), \n",
    "'You know I loves you'.split()]\n",
    "p, i, e = roberta_gec.predict(roberta_gec.preprocess(input))\n",
    "roberta_gec.postprocess_batch(input, p, i, e)\n",
    "# p, i, e = xlnet_gec.predict(xlnet_gec.preprocess(input))\n",
    "# xlnet_gec.postprocess_batch(input, p, i, e)"
   ]
  },
  {
   "cell_type": "code",
   "execution_count": 28,
   "metadata": {},
   "outputs": [],
   "source": [
    "class gec(torch.nn.Module):\n",
    "    def __init__(self, model, model_) -> None:\n",
    "        super().__init__()\n",
    "        \n",
    "        self.model = model\n",
    "        self.model_ = model_\n",
    "        \n",
    "    def forward(self, bert, bert_offsets, mask):\n",
    "        token = {\n",
    "            'bert': bert,\n",
    "            'bert-offsets': bert_offsets,\n",
    "            'mask': mask\n",
    "        }\n",
    "        outputs = self.model.forward(token)\n",
    "        return self.model_._convert([outputs])\n",
    "\n",
    "model = Seq2Labels(vocab=roberta_gec.vocab,\n",
    "                               text_field_embedder=roberta_gec._get_embbeder('roberta-base', 1),\n",
    "                               confidence=0,\n",
    "                               del_confidence=0,\n",
    "                               )\n",
    "model.load_state_dict(torch.load('models/roberta_1_gectorv2.th'), strict=False)\n",
    "roberta_gec_onnx = gec(model, roberta_gec).to('cuda:0')"
   ]
  },
  {
   "cell_type": "code",
   "execution_count": 29,
   "metadata": {},
   "outputs": [
    {
     "name": "stdout",
     "output_type": "stream",
     "text": [
      "{'bert': tensor([[50265,    38,  1072,   310,   569,   426,    19,    47],\n",
      "        [50265,   370,   216,    38,  6138,    47,     0,     0]],\n",
      "       device='cuda:0'), 'bert-offsets': tensor([[0, 1, 2, 3, 4, 5, 6, 7],\n",
      "        [0, 1, 2, 3, 4, 5, 0, 0]], device='cuda:0'), 'mask': tensor([[1, 1, 1, 1, 1, 1, 1, 1],\n",
      "        [1, 1, 1, 1, 1, 1, 0, 0]], device='cuda:0')}\n"
     ]
    }
   ],
   "source": [
    "tokens = util.move_to_device(roberta_gec.preprocess(input)[0].as_tensor_dict(), 0)['tokens']\n",
    "# tokens = util.move_to_device(xlnet_gec.preprocess(input)[0].as_tensor_dict(), 0)['tokens']\n",
    "print(tokens)"
   ]
  },
  {
   "cell_type": "code",
   "execution_count": 30,
   "metadata": {},
   "outputs": [
    {
     "data": {
      "text/plain": [
       "(tensor([[0.9996, 0.9988, 0.9579, 0.9991, 0.9997, 0.9994, 0.9998, 0.4908],\n",
       "         [0.9984, 0.9980, 0.9877, 0.9990, 0.9167, 0.5697, 0.9984, 0.9984]],\n",
       "        device='cuda:0', grad_fn=<MaxBackward0>),\n",
       " tensor([[ 0,  0, 19,  0,  0,  0,  0,  0],\n",
       "         [ 0,  0,  0,  0, 19,  0,  0,  0]], device='cuda:0'),\n",
       " tensor([0.9844, 0.9355], device='cuda:0', grad_fn=<AddBackward0>))"
      ]
     },
     "execution_count": 30,
     "metadata": {},
     "output_type": "execute_result"
    }
   ],
   "source": [
    "roberta_gec_onnx(tokens['bert'], tokens['bert-offsets'], tokens['mask'])"
   ]
  },
  {
   "cell_type": "code",
   "execution_count": 31,
   "metadata": {},
   "outputs": [
    {
     "name": "stderr",
     "output_type": "stream",
     "text": [
      "/home/newdisk/lihao/gector/gector/bert_token_embedder.py:128: TracerWarning: Converting a tensor to a Python boolean might cause the trace to be incorrect. We can't record the data flow of Python values, so this value will be treated as a constant in the future. This means that the trace might not generalize to other inputs!\n",
      "  if needs_split:\n",
      "/home/newdisk/lihao/gector/gector/bert_token_embedder.py:152: TracerWarning: Converting a tensor to a Python boolean might cause the trace to be incorrect. We can't record the data flow of Python values, so this value will be treated as a constant in the future. This means that the trace might not generalize to other inputs!\n",
      "  if needs_split:\n",
      "/home/lihao/hdd/anaconda3/envs/gector/lib/python3.7/site-packages/torch/onnx/symbolic_opset9.py:2819: UserWarning: Exporting aten::index operator of advanced indexing in opset 12 is achieved by combination of multiple ONNX operators, including Reshape, Transpose, Concat, and Gather. If indices include negative values, the exported graph will produce incorrect results.\n",
      "  \"If indices include negative values, the exported graph will produce incorrect results.\")\n"
     ]
    }
   ],
   "source": [
    "input_names = ['bert', 'bert-offsets', 'mask']\n",
    "output_names = ['probs', 'idx', 'error_probs']\n",
    "dynamic_axes = {\n",
    "    'bert': {0: 'batch_0', 1: 'sequence_0'},\n",
    "    'bert-offsets': {0: 'batch_1', 1: 'sequence_1'},\n",
    "    'mask': {0: 'batch_2', 1: 'sequence_2'},\n",
    "    'probs': {0: 'batch_3', 1: 'sequence_3'},\n",
    "    'idx': {0: 'batch_4', 1: 'sequence_4'},\n",
    "    'error_probs': {0: 'batch_5', 1: 'sequence_5'}\n",
    "}\n",
    "\n",
    "torch.onnx.export(roberta_gec_onnx, (tokens['bert'], tokens['bert-offsets'], tokens['mask']), \"onnx/roberta-base-new.onnx\",\n",
    "                    input_names=input_names, output_names=output_names, dynamic_axes=dynamic_axes, \n",
    "                    opset_version=12)"
   ]
  },
  {
   "cell_type": "code",
   "execution_count": 32,
   "metadata": {},
   "outputs": [],
   "source": [
    "import onnxruntime\n",
    "import numpy as np\n",
    "\n",
    "bert = tokens['bert'].cpu().numpy()\n",
    "bert_offsets = tokens['bert-offsets'].cpu().numpy()\n",
    "mask = tokens['mask'].cpu().numpy()\n",
    "\n",
    "x_onnx = onnxruntime.InferenceSession('onnx/roberta-base-new.onnx', providers=['CUDAExecutionProvider', 'CPUExecutionProvider'])"
   ]
  },
  {
   "cell_type": "code",
   "execution_count": 33,
   "metadata": {},
   "outputs": [
    {
     "data": {
      "text/plain": [
       "[array([[0.9996369 , 0.99877375, 0.9580072 , 0.99911696, 0.9997173 ,\n",
       "         0.999388  , 0.9998331 , 0.48995388],\n",
       "        [0.9983884 , 0.99800795, 0.9877237 , 0.9989674 , 0.9165534 ,\n",
       "         0.5708694 , 0.9983884 , 0.99838805]], dtype=float32),\n",
       " array([[ 0,  0, 19,  0,  0,  0,  0,  0],\n",
       "        [ 0,  0,  0,  0, 19,  0,  0,  0]], dtype=int64),\n",
       " array([0.9843983, 0.9354141], dtype=float32)]"
      ]
     },
     "execution_count": 33,
     "metadata": {},
     "output_type": "execute_result"
    }
   ],
   "source": [
    "x_onnx.run(\n",
    "    None,\n",
    "    input_feed={\n",
    "        'bert': bert,\n",
    "        'bert-offsets': bert_offsets,\n",
    "        'mask': mask\n",
    "    }\n",
    ")"
   ]
  }
 ],
 "metadata": {
  "kernelspec": {
   "display_name": "Python 3.7.15 ('gector': conda)",
   "language": "python",
   "name": "python3"
  },
  "language_info": {
   "codemirror_mode": {
    "name": "ipython",
    "version": 3
   },
   "file_extension": ".py",
   "mimetype": "text/x-python",
   "name": "python",
   "nbconvert_exporter": "python",
   "pygments_lexer": "ipython3",
   "version": "3.7.15"
  },
  "orig_nbformat": 4,
  "vscode": {
   "interpreter": {
    "hash": "b250b036eba043fde87f51881c56509a4d141fd0875cf84bd136ba860ce946f8"
   }
  }
 },
 "nbformat": 4,
 "nbformat_minor": 2
}
